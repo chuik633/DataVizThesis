{
 "cells": [
  {
   "cell_type": "code",
   "execution_count": null,
   "metadata": {},
   "outputs": [],
   "source": [
    "import pandas as pd\n",
    "import json\n",
    "from os import listdir\n",
    "import numpy as np\n",
    "\n",
    "# sound libs\n",
    "import librosa\n",
    "import pyAudioAnalysis as pya\n",
    "from pyAudioAnalysis import audioTrainTest\n"
   ]
  },
  {
   "cell_type": "code",
   "execution_count": 47,
   "metadata": {},
   "outputs": [],
   "source": [
    "from pyAudioAnalysis import audioBasicIO\n",
    "from pyAudioAnalysis import ShortTermFeatures\n",
    "from pyAudioAnalysis import MidTermFeatures\n",
    "import matplotlib.pyplot as plt\n",
    "\n",
    "name = 'andshewas'\n",
    "audioDir = f'./tmp/{name}/audios/'\n",
    "audioFilenames = [audioDir+f for f in listdir(audioDir) if f.endswith('wav')]\n",
    "testFile = audioFilenames[0]\n"
   ]
  },
  {
   "cell_type": "code",
   "execution_count": null,
   "metadata": {},
   "outputs": [],
   "source": [
    "[Fs, x] = audioBasicIO.read_audio_file(testFile)\n",
    "print(\"Audio length:\", len(x))\n",
    "print(\"Sampling rate:\", Fs)\n",
    "\n",
    "\n",
    "frame = x[:2205]  # First frame of the signal\n",
    "print(f\"First frame shape: {frame.shape}\")\n",
    "\n",
    "# convert stereo to mono. stereo ahs 2 channels\n",
    "if x.shape[1] == 2:\n",
    "    x = np.mean(x, axis=1) \n",
    "\n",
    "window_size = .05*Fs\n",
    "step_size = .02*Fs\n",
    "print(\"window_size\", window_size)\n",
    "print(\"step_Size\", step_size)\n",
    "\n"
   ]
  },
  {
   "cell_type": "markdown",
   "metadata": {},
   "source": [
    "Short vs. Mid. Midterm is better for overall/aggregate summaries of aduio. SO i will use midterm feature extraction for the summary stats for each audio file. Short term is good for things like note events, i might use this for art later. Mid ex has a bigger step size than short"
   ]
  },
  {
   "cell_type": "code",
   "execution_count": null,
   "metadata": {},
   "outputs": [],
   "source": [
    "# short term for more specific things liek spectral features, zero crossing etc\n",
    "F, f_names = ShortTermFeatures.feature_extraction(x, Fs, window_size, step_size)\n",
    "print(f_names)"
   ]
  },
  {
   "cell_type": "code",
   "execution_count": 43,
   "metadata": {},
   "outputs": [
    {
     "name": "stdout",
     "output_type": "stream",
     "text": [
      "['zcr_mean', 'energy_mean', 'energy_entropy_mean', 'spectral_centroid_mean', 'spectral_spread_mean', 'spectral_entropy_mean', 'spectral_flux_mean', 'spectral_rolloff_mean', 'mfcc_1_mean', 'mfcc_2_mean', 'mfcc_3_mean', 'mfcc_4_mean', 'mfcc_5_mean', 'mfcc_6_mean', 'mfcc_7_mean', 'mfcc_8_mean', 'mfcc_9_mean', 'mfcc_10_mean', 'mfcc_11_mean', 'mfcc_12_mean', 'mfcc_13_mean', 'chroma_1_mean', 'chroma_2_mean', 'chroma_3_mean', 'chroma_4_mean', 'chroma_5_mean', 'chroma_6_mean', 'chroma_7_mean', 'chroma_8_mean', 'chroma_9_mean', 'chroma_10_mean', 'chroma_11_mean', 'chroma_12_mean', 'chroma_std_mean', 'delta zcr_mean', 'delta energy_mean', 'delta energy_entropy_mean', 'delta spectral_centroid_mean', 'delta spectral_spread_mean', 'delta spectral_entropy_mean', 'delta spectral_flux_mean', 'delta spectral_rolloff_mean', 'delta mfcc_1_mean', 'delta mfcc_2_mean', 'delta mfcc_3_mean', 'delta mfcc_4_mean', 'delta mfcc_5_mean', 'delta mfcc_6_mean', 'delta mfcc_7_mean', 'delta mfcc_8_mean', 'delta mfcc_9_mean', 'delta mfcc_10_mean', 'delta mfcc_11_mean', 'delta mfcc_12_mean', 'delta mfcc_13_mean', 'delta chroma_1_mean', 'delta chroma_2_mean', 'delta chroma_3_mean', 'delta chroma_4_mean', 'delta chroma_5_mean', 'delta chroma_6_mean', 'delta chroma_7_mean', 'delta chroma_8_mean', 'delta chroma_9_mean', 'delta chroma_10_mean', 'delta chroma_11_mean', 'delta chroma_12_mean', 'delta chroma_std_mean', 'zcr_std', 'energy_std', 'energy_entropy_std', 'spectral_centroid_std', 'spectral_spread_std', 'spectral_entropy_std', 'spectral_flux_std', 'spectral_rolloff_std', 'mfcc_1_std', 'mfcc_2_std', 'mfcc_3_std', 'mfcc_4_std', 'mfcc_5_std', 'mfcc_6_std', 'mfcc_7_std', 'mfcc_8_std', 'mfcc_9_std', 'mfcc_10_std', 'mfcc_11_std', 'mfcc_12_std', 'mfcc_13_std', 'chroma_1_std', 'chroma_2_std', 'chroma_3_std', 'chroma_4_std', 'chroma_5_std', 'chroma_6_std', 'chroma_7_std', 'chroma_8_std', 'chroma_9_std', 'chroma_10_std', 'chroma_11_std', 'chroma_12_std', 'chroma_std_std', 'delta zcr_std', 'delta energy_std', 'delta energy_entropy_std', 'delta spectral_centroid_std', 'delta spectral_spread_std', 'delta spectral_entropy_std', 'delta spectral_flux_std', 'delta spectral_rolloff_std', 'delta mfcc_1_std', 'delta mfcc_2_std', 'delta mfcc_3_std', 'delta mfcc_4_std', 'delta mfcc_5_std', 'delta mfcc_6_std', 'delta mfcc_7_std', 'delta mfcc_8_std', 'delta mfcc_9_std', 'delta mfcc_10_std', 'delta mfcc_11_std', 'delta mfcc_12_std', 'delta mfcc_13_std', 'delta chroma_1_std', 'delta chroma_2_std', 'delta chroma_3_std', 'delta chroma_4_std', 'delta chroma_5_std', 'delta chroma_6_std', 'delta chroma_7_std', 'delta chroma_8_std', 'delta chroma_9_std', 'delta chroma_10_std', 'delta chroma_11_std', 'delta chroma_12_std', 'delta chroma_std_std']\n"
     ]
    }
   ],
   "source": [
    "# Midterm features are better for global things like statistical aggregates, beat, tempo, tonal things,\n",
    "mid_window_size = 2.0 *Fs\n",
    "short_window_size = .025*Fs\n",
    "mid_features, short_features, mid_feature_names = MidTermFeatures.mid_feature_extraction(x, Fs,mid_window_size  , 1.0*Fs,\n",
    "                           short_window_size, .01*Fs)\n",
    "print(mid_feature_names)"
   ]
  },
  {
   "cell_type": "code",
   "execution_count": 37,
   "metadata": {},
   "outputs": [],
   "source": [
    "#quickly visualize with CHATGPT for this code\n",
    "\n",
    "\n",
    "# Mid-term features visualization\n",
    "def plot_midterm_features(mid_features, feature_names, title=\"Mid-Term Features\"):\n",
    "    num_features = mid_features.shape[0] \n",
    "    \n",
    "    # Create subplots\n",
    "    fig, axes = plt.subplots(num_features, 1, figsize=(10, 2 * num_features))\n",
    "    \n",
    "    # If there's only one feature, make axes a list\n",
    "    if num_features == 1:\n",
    "        axes = [axes]\n",
    "    \n",
    "    for i in range(num_features):\n",
    "        axes[i].plot(mid_features[i, :])\n",
    "        axes[i].set_title(feature_names[i])\n",
    "        axes[i].set_xlabel(\"Frame Number\")\n",
    "        axes[i].set_ylabel(feature_names[i])\n",
    "    \n",
    "    plt.tight_layout()\n",
    "    plt.show()\n",
    "\n",
    "# Short-term features visualization (you can visualize a few features of interest)\n",
    "def plot_shortterm_features(short_features, feature_names, title=\"Short-Term Features\"):\n",
    "    num_features = short_features.shape[0] \n",
    "    \n",
    "    # Create subplots\n",
    "    fig, axes = plt.subplots(num_features, 1, figsize=(10, 2 * num_features))\n",
    "    \n",
    "    # If there's only one feature, make axes a list\n",
    "    if num_features == 1:\n",
    "        axes = [axes]\n",
    "    \n",
    "    for i in range(num_features):\n",
    "        axes[i].plot(short_features[i, :])\n",
    "        axes[i].set_title(feature_names[i])\n",
    "        axes[i].set_xlabel(\"Frame Number\")\n",
    "        axes[i].set_ylabel(feature_names[i])\n",
    "    \n",
    "    plt.tight_layout()\n",
    "    plt.show()\n",
    "\n",
    "\n",
    "# plot_midterm_features(mid_features, mid_feature_names, title=\"Mid-Term Features\")\n",
    "# plot_shortterm_features(short_features, f_names, title=\"Short-Term Features\")\n"
   ]
  },
  {
   "cell_type": "markdown",
   "metadata": {},
   "source": [
    "now that i have the features, i want do extract things LIKE: \n",
    "1. beat\n",
    "2. chromagram"
   ]
  },
  {
   "cell_type": "code",
   "execution_count": 46,
   "metadata": {},
   "outputs": [
    {
     "ename": "AttributeError",
     "evalue": "`np.Inf` was removed in the NumPy 2.0 release. Use `np.inf` instead.",
     "output_type": "error",
     "traceback": [
      "\u001b[31m---------------------------------------------------------------------------\u001b[39m",
      "\u001b[31mAttributeError\u001b[39m                            Traceback (most recent call last)",
      "\u001b[36mCell\u001b[39m\u001b[36m \u001b[39m\u001b[32mIn[46]\u001b[39m\u001b[32m, line 1\u001b[39m\n\u001b[32m----> \u001b[39m\u001b[32m1\u001b[39m bpm, ratio = \u001b[43mMidTermFeatures\u001b[49m\u001b[43m.\u001b[49m\u001b[43mbeat_extraction\u001b[49m\u001b[43m(\u001b[49m\u001b[43mshort_features\u001b[49m\u001b[43m,\u001b[49m\u001b[43m \u001b[49m\u001b[32;43m1\u001b[39;49m\u001b[43m*\u001b[49m\u001b[43mFs\u001b[49m\u001b[43m,\u001b[49m\u001b[43m \u001b[49m\u001b[43mplot\u001b[49m\u001b[43m=\u001b[49m\u001b[38;5;28;43;01mTrue\u001b[39;49;00m\u001b[43m)\u001b[49m\n",
      "\u001b[36mFile \u001b[39m\u001b[32m~/Desktop/DataVisualization/MajorStudio2/DataVizThesis/composerData/myenv/lib/python3.13/site-packages/pyAudioAnalysis/MidTermFeatures.py:43\u001b[39m, in \u001b[36mbeat_extraction\u001b[39m\u001b[34m(short_features, window_size, plot)\u001b[39m\n\u001b[32m     41\u001b[39m     dif_threshold = \u001b[32m0.0000000000000001\u001b[39m\n\u001b[32m     42\u001b[39m \u001b[38;5;66;03m# detect local maxima\u001b[39;00m\n\u001b[32m---> \u001b[39m\u001b[32m43\u001b[39m [pos1, _] = \u001b[43mutilities\u001b[49m\u001b[43m.\u001b[49m\u001b[43mpeakdet\u001b[49m\u001b[43m(\u001b[49m\u001b[43mshort_features\u001b[49m\u001b[43m[\u001b[49m\u001b[43mi\u001b[49m\u001b[43m,\u001b[49m\u001b[43m \u001b[49m\u001b[43m:\u001b[49m\u001b[43m]\u001b[49m\u001b[43m,\u001b[49m\u001b[43m \u001b[49m\u001b[43mdif_threshold\u001b[49m\u001b[43m)\u001b[49m\n\u001b[32m     44\u001b[39m position_diffs = []\n\u001b[32m     45\u001b[39m \u001b[38;5;66;03m# compute histograms of local maxima changes\u001b[39;00m\n",
      "\u001b[36mFile \u001b[39m\u001b[32m~/Desktop/DataVisualization/MajorStudio2/DataVizThesis/composerData/myenv/lib/python3.13/site-packages/pyAudioAnalysis/utilities.py:75\u001b[39m, in \u001b[36mpeakdet\u001b[39m\u001b[34m(v, delta, x)\u001b[39m\n\u001b[32m     72\u001b[39m \u001b[38;5;28;01mif\u001b[39;00m delta <= \u001b[32m0\u001b[39m:\n\u001b[32m     73\u001b[39m     sys.exit(\u001b[33m'\u001b[39m\u001b[33mInput argument delta must be positive\u001b[39m\u001b[33m'\u001b[39m)\n\u001b[32m---> \u001b[39m\u001b[32m75\u001b[39m mn, mx = \u001b[43mnumpy\u001b[49m\u001b[43m.\u001b[49m\u001b[43mInf\u001b[49m, -numpy.Inf\n\u001b[32m     76\u001b[39m mnpos, mxpos = numpy.NaN, numpy.NaN\n\u001b[32m     78\u001b[39m lookformax = \u001b[38;5;28;01mTrue\u001b[39;00m\n",
      "\u001b[36mFile \u001b[39m\u001b[32m~/Desktop/DataVisualization/MajorStudio2/DataVizThesis/composerData/myenv/lib/python3.13/site-packages/numpy/__init__.py:400\u001b[39m, in \u001b[36m__getattr__\u001b[39m\u001b[34m(attr)\u001b[39m\n\u001b[32m    397\u001b[39m     \u001b[38;5;28;01mraise\u001b[39;00m \u001b[38;5;167;01mAttributeError\u001b[39;00m(__former_attrs__[attr], name=\u001b[38;5;28;01mNone\u001b[39;00m)\n\u001b[32m    399\u001b[39m \u001b[38;5;28;01mif\u001b[39;00m attr \u001b[38;5;129;01min\u001b[39;00m __expired_attributes__:\n\u001b[32m--> \u001b[39m\u001b[32m400\u001b[39m     \u001b[38;5;28;01mraise\u001b[39;00m \u001b[38;5;167;01mAttributeError\u001b[39;00m(\n\u001b[32m    401\u001b[39m         \u001b[33mf\u001b[39m\u001b[33m\"\u001b[39m\u001b[33m`np.\u001b[39m\u001b[38;5;132;01m{\u001b[39;00mattr\u001b[38;5;132;01m}\u001b[39;00m\u001b[33m` was removed in the NumPy 2.0 release. \u001b[39m\u001b[33m\"\u001b[39m\n\u001b[32m    402\u001b[39m         \u001b[33mf\u001b[39m\u001b[33m\"\u001b[39m\u001b[38;5;132;01m{\u001b[39;00m__expired_attributes__[attr]\u001b[38;5;132;01m}\u001b[39;00m\u001b[33m\"\u001b[39m,\n\u001b[32m    403\u001b[39m         name=\u001b[38;5;28;01mNone\u001b[39;00m\n\u001b[32m    404\u001b[39m     )\n\u001b[32m    406\u001b[39m \u001b[38;5;28;01mif\u001b[39;00m attr == \u001b[33m\"\u001b[39m\u001b[33mchararray\u001b[39m\u001b[33m\"\u001b[39m:\n\u001b[32m    407\u001b[39m     warnings.warn(\n\u001b[32m    408\u001b[39m         \u001b[33m\"\u001b[39m\u001b[33m`np.chararray` is deprecated and will be removed from \u001b[39m\u001b[33m\"\u001b[39m\n\u001b[32m    409\u001b[39m         \u001b[33m\"\u001b[39m\u001b[33mthe main namespace in the future. Use an array with a string \u001b[39m\u001b[33m\"\u001b[39m\n\u001b[32m    410\u001b[39m         \u001b[33m\"\u001b[39m\u001b[33mor bytes dtype instead.\u001b[39m\u001b[33m\"\u001b[39m, \u001b[38;5;167;01mDeprecationWarning\u001b[39;00m, stacklevel=\u001b[32m2\u001b[39m)\n",
      "\u001b[31mAttributeError\u001b[39m: `np.Inf` was removed in the NumPy 2.0 release. Use `np.inf` instead."
     ]
    }
   ],
   "source": [
    "\n",
    "bpm, ratio = MidTermFeatures.beat_extraction(short_features, 1*Fs, plot=True)\n"
   ]
  }
 ],
 "metadata": {
  "kernelspec": {
   "display_name": "myenv",
   "language": "python",
   "name": "python3"
  },
  "language_info": {
   "codemirror_mode": {
    "name": "ipython",
    "version": 3
   },
   "file_extension": ".py",
   "mimetype": "text/x-python",
   "name": "python",
   "nbconvert_exporter": "python",
   "pygments_lexer": "ipython3",
   "version": "3.13.2"
  }
 },
 "nbformat": 4,
 "nbformat_minor": 2
}
