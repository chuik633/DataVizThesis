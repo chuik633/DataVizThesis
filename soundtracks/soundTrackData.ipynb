{
 "cells": [
  {
   "cell_type": "code",
   "execution_count": null,
   "metadata": {},
   "outputs": [],
   "source": [
    "from audio_utils import wav_to_list, list_to_wav, convert_file_to_wav\n",
    "from audio_utils import fft, cluster_fft_freqs\n",
    "\n",
    "#handling all of the files\n",
    "from os import listdir, path\n",
    "\n",
    "#visualizing libraries\n",
    "import matplotlib.pyplot as plt\n",
    "from IPython.display import Audio\n",
    "from PIL import Image\n",
    "\n",
    "#printing\n",
    "import pprint"
   ]
  },
  {
   "cell_type": "code",
   "execution_count": null,
   "metadata": {},
   "outputs": [],
   "source": [
    "#load audio file\n",
    "SOUNDTRACK_FOLDER = \"interstellar-soundtrack/\"\n",
    "\n",
    "#convert mp3 files\n",
    "mp3_scores =  [f for f in listdir(SOUNDTRACK_FOLDER) if f.endswith(\"mp3\")]\n",
    "for mp3_score in mp3_scores:\n",
    "    print(SOUNDTRACK_FOLDER+mp3_score)\n",
    "    convert_file_to_wav(SOUNDTRACK_FOLDER+mp3_score)\n",
    "\n",
    "wav_score_paths = [SOUNDTRACK_FOLDER+f for f in listdir(SOUNDTRACK_FOLDER) if f.endswith(\"wav\")]\n",
    "pprint.pprint(wav_score_paths)"
   ]
  },
  {
   "cell_type": "code",
   "execution_count": null,
   "metadata": {},
   "outputs": [],
   "source": [
    "song1 = wav_to_list(wav_score_paths[0])\n",
    "print(len(song1))\n",
    "print(song1[0])\n",
    "plt.plot(song1)\n",
    "plt.show()\n",
    "\n",
    "display(Audio(song1, rate=44100))"
   ]
  },
  {
   "cell_type": "code",
   "execution_count": null,
   "metadata": {},
   "outputs": [],
   "source": [
    "def preview_song(file_path):\n",
    "    song = wav_to_list(file_path)\n",
    "    print(\"----------------\")\n",
    "    print(file_path.split('/')[-1])\n",
    "    print(\"num samples:\", len(song))\n",
    "    plt.plot(song)\n",
    "    plt.show()\n",
    "\n",
    "    display(Audio(song, rate=44100))\n",
    "    \n",
    "for wave_score_path in wav_score_paths:\n",
    "    preview_song(wave_score_path)"
   ]
  },
  {
   "cell_type": "code",
   "execution_count": null,
   "metadata": {},
   "outputs": [],
   "source": [
    "\n",
    "def analyze_soundFile(file_path):\n",
    "    song = wav_to_list(file_path)\n",
    "    smaller_song = song[::3]\n",
    "    smaller_song_abs = [abs(val) for val in smaller_song]\n",
    "    song_name = file_path.split('/')[-1]\n",
    "    song_num = int(song_name.split(' ')[0])\n",
    "    \n",
    "    sound_info = {\n",
    "        \"num_samples\": len(song),\n",
    "        \"file_path\":file_path,\n",
    "        \"avg_loudness\":sum(smaller_song_abs)/len(smaller_song_abs),\n",
    "        \"song_num\":song_num,\n",
    "        \"song_name\":song_name.split('.')[0].split(' ')[-1]\n",
    "        #i would add things here\n",
    "\n",
    "    }\n",
    "    return sound_info\n",
    "    \n",
    "\n",
    "all_sound_data = []\n",
    "for wave_score_path in wav_score_paths:\n",
    "    sound_info = analyze_soundFile(wave_score_path)\n",
    "    all_sound_data.append(sound_info)\n"
   ]
  },
  {
   "cell_type": "code",
   "execution_count": null,
   "metadata": {},
   "outputs": [],
   "source": [
    "import pandas as pd\n",
    "df = pd.DataFrame(all_sound_data)\n",
    "df = df.sort_values(by='song_num')\n",
    "df.head()"
   ]
  },
  {
   "cell_type": "code",
   "execution_count": null,
   "metadata": {},
   "outputs": [],
   "source": [
    "plt.plot(df['song_num'], df['avg_loudness'])  \n",
    "\n",
    "plt.xlabel('Song Number')  \n",
    "plt.ylabel('Loudness')     \n",
    "plt.title('Song Number vs Loudness')\n",
    "plt.show()"
   ]
  }
 ],
 "metadata": {
  "kernelspec": {
   "display_name": "Python 3",
   "language": "python",
   "name": "python3"
  },
  "language_info": {
   "codemirror_mode": {
    "name": "ipython",
    "version": 3
   },
   "file_extension": ".py",
   "mimetype": "text/x-python",
   "name": "python",
   "nbconvert_exporter": "python",
   "pygments_lexer": "ipython3",
   "version": "3.12.5"
  }
 },
 "nbformat": 4,
 "nbformat_minor": 2
}
